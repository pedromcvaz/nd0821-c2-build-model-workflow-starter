{
 "cells": [
  {
   "cell_type": "markdown",
   "id": "61a9d445",
   "metadata": {},
   "source": [
    "# __Exploratory Data Analysis__"
   ]
  },
  {
   "cell_type": "markdown",
   "id": "97bb48f9",
   "metadata": {},
   "source": [
    "This notebook is responsible for the _Exploratory Data Analysis_ step of the nyc_airbnb project."
   ]
  },
  {
   "cell_type": "markdown",
   "id": "96e36f8e",
   "metadata": {},
   "source": [
    "## __Imports__"
   ]
  },
  {
   "cell_type": "code",
   "execution_count": 1,
   "id": "f5891acf",
   "metadata": {},
   "outputs": [],
   "source": [
    "import wandb\n",
    "import pandas as pd\n",
    "import pandas_profiling"
   ]
  },
  {
   "cell_type": "markdown",
   "id": "75558044",
   "metadata": {},
   "source": [
    "## __Start W&B run__"
   ]
  },
  {
   "cell_type": "code",
   "execution_count": 2,
   "id": "92627ed5",
   "metadata": {},
   "outputs": [
    {
     "name": "stderr",
     "output_type": "stream",
     "text": [
      "\u001b[34m\u001b[1mwandb\u001b[0m: Currently logged in as: \u001b[33mpedrovaz\u001b[0m (use `wandb login --relogin` to force relogin)\n",
      "\u001b[34m\u001b[1mwandb\u001b[0m: wandb version 0.12.10 is available!  To upgrade, please run:\n",
      "\u001b[34m\u001b[1mwandb\u001b[0m:  $ pip install wandb --upgrade\n"
     ]
    },
    {
     "data": {
      "text/html": [
       "\n",
       "                Tracking run with wandb version 0.10.31<br/>\n",
       "                Syncing run <strong style=\"color:#cdcd00\">cosmic-voice-2</strong> to <a href=\"https://wandb.ai\" target=\"_blank\">Weights & Biases</a> <a href=\"https://docs.wandb.com/integrations/jupyter.html\" target=\"_blank\">(Documentation)</a>.<br/>\n",
       "                Project page: <a href=\"https://wandb.ai/pedrovaz/nyc_airbnb\" target=\"_blank\">https://wandb.ai/pedrovaz/nyc_airbnb</a><br/>\n",
       "                Run page: <a href=\"https://wandb.ai/pedrovaz/nyc_airbnb/runs/3tu9wb20\" target=\"_blank\">https://wandb.ai/pedrovaz/nyc_airbnb/runs/3tu9wb20</a><br/>\n",
       "                Run data is saved locally in <code>/home/pedro.vaz/Documents/mlprojects/nd0821-c2-build-model-workflow-starter/src/eda/wandb/run-20220207_001144-3tu9wb20</code><br/><br/>\n",
       "            "
      ],
      "text/plain": [
       "<IPython.core.display.HTML object>"
      ]
     },
     "metadata": {},
     "output_type": "display_data"
    }
   ],
   "source": [
    " run = wandb.init(project=\"nyc_airbnb\", group=\"eda\", save_code=True)"
   ]
  },
  {
   "cell_type": "markdown",
   "id": "f550dc44",
   "metadata": {},
   "source": [
    "## __Import the data__"
   ]
  },
  {
   "cell_type": "code",
   "execution_count": 3,
   "id": "5e1767cb",
   "metadata": {},
   "outputs": [],
   "source": [
    "local_path = wandb.use_artifact(\"sample.csv:latest\").file()\n",
    "df = pd.read_csv(local_path)"
   ]
  },
  {
   "cell_type": "markdown",
   "id": "ccce37ee",
   "metadata": {},
   "source": [
    "## __Run pandas profilling__"
   ]
  },
  {
   "cell_type": "code",
   "execution_count": 4,
   "id": "dacbcef0",
   "metadata": {},
   "outputs": [
    {
     "data": {
      "application/vnd.jupyter.widget-view+json": {
       "model_id": "9c5dc5ca516b4b899809fe0c85ab0bd9",
       "version_major": 2,
       "version_minor": 0
      },
      "text/plain": [
       "Summarize dataset:   0%|          | 0/29 [00:00<?, ?it/s]"
      ]
     },
     "metadata": {},
     "output_type": "display_data"
    },
    {
     "data": {
      "application/vnd.jupyter.widget-view+json": {
       "model_id": "5d900888d9764bde9a765d64e8ba10a5",
       "version_major": 2,
       "version_minor": 0
      },
      "text/plain": [
       "Generate report structure:   0%|          | 0/1 [00:00<?, ?it/s]"
      ]
     },
     "metadata": {},
     "output_type": "display_data"
    },
    {
     "data": {
      "application/vnd.jupyter.widget-view+json": {
       "model_id": "",
       "version_major": 2,
       "version_minor": 0
      },
      "text/plain": [
       "Render widgets:   0%|          | 0/1 [00:00<?, ?it/s]"
      ]
     },
     "metadata": {},
     "output_type": "display_data"
    },
    {
     "data": {
      "application/vnd.jupyter.widget-view+json": {
       "model_id": "ae1df14a03494590b5e9e001a17125b9",
       "version_major": 2,
       "version_minor": 0
      },
      "text/plain": [
       "VBox(children=(Tab(children=(Tab(children=(GridBox(children=(VBox(children=(GridspecLayout(children=(HTML(valu…"
      ]
     },
     "metadata": {},
     "output_type": "display_data"
    }
   ],
   "source": [
    "profile = pandas_profiling.ProfileReport(df)\n",
    "profile.to_widgets()"
   ]
  },
  {
   "cell_type": "markdown",
   "id": "a70ac61e",
   "metadata": {},
   "source": [
    "## __Fix issues found__"
   ]
  },
  {
   "cell_type": "code",
   "execution_count": 5,
   "id": "8462fd8b",
   "metadata": {},
   "outputs": [],
   "source": [
    "# Drop outliers\n",
    "min_price = 10\n",
    "max_price = 350\n",
    "idx = df['price'].between(min_price, max_price)\n",
    "df = df[idx].copy()\n",
    "# Convert last_review to datetime\n",
    "df['last_review'] = pd.to_datetime(df['last_review'])"
   ]
  },
  {
   "cell_type": "markdown",
   "id": "54d1ad6c",
   "metadata": {},
   "source": [
    "## __Rerun pandas profilling to validade that the issues were fixed__"
   ]
  },
  {
   "cell_type": "code",
   "execution_count": null,
   "id": "19677140",
   "metadata": {},
   "outputs": [
    {
     "data": {
      "application/vnd.jupyter.widget-view+json": {
       "model_id": "cb2db37d9f284e32bdadf9f59c2bb315",
       "version_major": 2,
       "version_minor": 0
      },
      "text/plain": [
       "Summarize dataset:   0%|          | 0/30 [00:00<?, ?it/s]"
      ]
     },
     "metadata": {},
     "output_type": "display_data"
    },
    {
     "data": {
      "application/vnd.jupyter.widget-view+json": {
       "model_id": "6ff8aeb4779640279f4b83bab8caab24",
       "version_major": 2,
       "version_minor": 0
      },
      "text/plain": [
       "Generate report structure:   0%|          | 0/1 [00:00<?, ?it/s]"
      ]
     },
     "metadata": {},
     "output_type": "display_data"
    },
    {
     "data": {
      "application/vnd.jupyter.widget-view+json": {
       "model_id": "",
       "version_major": 2,
       "version_minor": 0
      },
      "text/plain": [
       "Render widgets:   0%|          | 0/1 [00:00<?, ?it/s]"
      ]
     },
     "metadata": {},
     "output_type": "display_data"
    }
   ],
   "source": [
    "profile = pandas_profiling.ProfileReport(df)\n",
    "profile.to_widgets()"
   ]
  },
  {
   "cell_type": "markdown",
   "id": "75920870",
   "metadata": {},
   "source": [
    "## __End the run__"
   ]
  },
  {
   "cell_type": "code",
   "execution_count": null,
   "id": "d8e1db3b",
   "metadata": {},
   "outputs": [],
   "source": [
    "run.finish()"
   ]
  }
 ],
 "metadata": {
  "kernelspec": {
   "display_name": "Python 3",
   "language": "python",
   "name": "python3"
  },
  "language_info": {
   "codemirror_mode": {
    "name": "ipython",
    "version": 3
   },
   "file_extension": ".py",
   "mimetype": "text/x-python",
   "name": "python",
   "nbconvert_exporter": "python",
   "pygments_lexer": "ipython3",
   "version": "3.9.10"
  }
 },
 "nbformat": 4,
 "nbformat_minor": 5
}
